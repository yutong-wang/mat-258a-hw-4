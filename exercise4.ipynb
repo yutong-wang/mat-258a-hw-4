{
 "cells": [
  {
   "cell_type": "code",
   "execution_count": 19,
   "metadata": {
    "collapsed": false,
    "scrolled": true
   },
   "outputs": [
    {
     "data": {
      "text/plain": [
       "minimizeBFGS (generic function with 3 methods)"
      ]
     },
     "execution_count": 19,
     "metadata": {},
     "output_type": "execute_result"
    }
   ],
   "source": [
    "##############\n",
    "# Minimizers #\n",
    "##############\n",
    "\n",
    "# Note: All minimizer functions returns an array L such that\n",
    "# L[1] = x^*, or the optimal point\n",
    "# L[2] = value of the objective function at the optimal point\n",
    "# L[3] = number of iterations used or DEFAULT_MAX_ITER\n",
    "\n",
    "const DEFAULT_MAX_ITER = 500\n",
    "const DEFAULT_TOLERANCE = 0.01\n",
    "const DEFAULT_MAX_UPPER_BOUND = 1000\n",
    "\n",
    "\n",
    "# Minimization algorithm using Newton's method\n",
    "# f  the objective function\n",
    "# g  the gradient of f\n",
    "# h  the Hessian of f\n",
    "# x  an initial testing point\n",
    "# tolerance a small number\n",
    "function minimizenewt(f,g, H, x::Vector, tolerance=DEFAULT_TOLERANCE, max_iter = DEFAULT_MAX_ITER)\n",
    "    alpha =0.3\n",
    "    beta = 0.7\n",
    "    gamma =0.4\n",
    "    iter = 0\n",
    "    \n",
    "    # Default mode is RELATIVE tolerance, comment out the line below for ABSOLUTE tolerance\n",
    "    tolerance = tolerance*norm(g(x))\n",
    "\n",
    "    while norm(g(x)) > tolerance && iter < max_iter\n",
    "        dx = -H(x)\\g(x)\n",
    "        t = 1\n",
    "        while f(x+t*dx) > f(x) + alpha*t*sum(g(x).*dx)\n",
    "            t = beta*t\n",
    "        end\n",
    "        x = x + t*dx\n",
    "        iter = iter + 1\n",
    "    end\n",
    "    if iter < max_iter\n",
    "        success =1\n",
    "    else\n",
    "        success =0\n",
    "    end\n",
    "    return [f(x), iter]\n",
    "end\n",
    "\n",
    "\n",
    "\n",
    "\n",
    "\n",
    "# Minimization algorithm using BFGS\n",
    "# f  the objective function\n",
    "# g  the gradient of f\n",
    "# H  the initial guess of the INVERSE HESSIAN, you should set it to the identify matrix if you don't know\n",
    "# x  an initial testing point\n",
    "# tolerance a small number\n",
    "function minimizeBFGS(f,g, H, x::Vector, tolerance=DEFAULT_TOLERANCE, max_iter = DEFAULT_MAX_ITER)\n",
    "\n",
    "    alpha =0.3\n",
    "    beta = 0.7\n",
    "    gamma = 0.4\n",
    "    iter = 0\n",
    "    \n",
    "    I = eye(length(x))\n",
    "    \n",
    "    # Default mode is RELATIVE tolerance, comment out the line below for ABSOLUTE tolerance\n",
    "    tolerance = tolerance*norm(g(x))\n",
    "\n",
    "    while norm(g(x)) > tolerance && iter < max_iter\n",
    "        dx = -H*g(x)\n",
    "        t = 1\n",
    "        while f(x+t*dx) > f(x) + alpha*t*sum(g(x).*dx)\n",
    "            t = beta*t\n",
    "        end\n",
    "\n",
    "        x1 = x + t*dx\n",
    "        s = t*dx\n",
    "        y = g(x1) - g(x)\n",
    "        rho = 1/dot(s,y)\n",
    "        H = (I-rho* s *(y'))*H*(I-rho*y*(s')) + rho*s*(s')\n",
    "        x = x1\n",
    "        iter = iter + 1\n",
    "    end\n",
    "    return [f(x), iter]\n",
    "end\n",
    "\n",
    "\n"
   ]
  },
  {
   "cell_type": "code",
   "execution_count": 3,
   "metadata": {
    "collapsed": false
   },
   "outputs": [
    {
     "name": "stdout",
     "output_type": "stream",
     "text": [
      "Legends:\n"
     ]
    },
    {
     "name": "stderr",
     "output_type": "stream",
     "text": [
      "WARNING: [a,b,...] concatenation is deprecated; use [a;b;...] instead\n"
     ]
    },
    {
     "name": "stdout",
     "output_type": "stream",
     "text": [
      "NM = Newton's method\n",
      "BFGS = quasi-Newton method using BFGS approximation of inverse Hessian\n",
      "Correct = the correct outputs a minimizer function should spit out\n",
      "---------------------------------------------------------------------------------------\n",
      "Method     Coordinate of optimal point                  Value of minimum      # of iterations\n"
     ]
    },
    {
     "name": "stderr",
     "output_type": "stream",
     "text": [
      " in depwarn at deprecated.jl:73\n",
      " in oldstyle_vcat_warning at ./abstractarray.jl:29\n",
      " in vect at abstractarray.jl:38\n",
      " in minimizenewt at In[2]:44\n",
      " in minimizenewt at In[2]:22\n",
      " in include_string at loading.jl:266\n",
      " in execute_request_0x535c5df2 at /opt/julia_packages/.julia/v0.4/IJulia/src/execute_request.jl:177\n",
      " in eventloop at /opt/julia_packages/.julia/v0.4/IJulia/src/IJulia.jl:141\n",
      " in anonymous at task.jl:447\n",
      "while loading In[3], in expression starting on line 20\n"
     ]
    },
    {
     "name": "stdout",
     "output_type": "stream",
     "text": [
      "NM "
     ]
    },
    {
     "name": "stderr",
     "output_type": "stream",
     "text": [
      "WARNING: [a,b,...] concatenation is deprecated; use [a;b;...] instead\n"
     ]
    },
    {
     "name": "stdout",
     "output_type": "stream",
     "text": [
      "          3.000000             1.000000             0.000000                    1\n"
     ]
    },
    {
     "name": "stderr",
     "output_type": "stream",
     "text": [
      " in depwarn at deprecated.jl:73\n",
      " in oldstyle_vcat_warning at ./abstractarray.jl:29\n",
      " in vect at abstractarray.jl:38\n",
      " in minimizeBFGS at In[2]:84\n",
      " in minimizeBFGS at In[2]:59\n",
      " in include_string at loading.jl:266\n",
      " in execute_request_0x535c5df2 at /opt/julia_packages/.julia/v0.4/IJulia/src/execute_request.jl:177\n",
      " in eventloop at /opt/julia_packages/.julia/v0.4/IJulia/src/IJulia.jl:141\n",
      " in anonymous at task.jl:447\n",
      "while loading In[3], in expression starting on line 22\n"
     ]
    },
    {
     "name": "stdout",
     "output_type": "stream",
     "text": [
      "BFGS         2.999999             1.000001             0.000000                    4\n",
      "Correct "
     ]
    }
   ],
   "source": [
    "################################\n",
    "# Simple test with a quadratic #\n",
    "################################\n",
    "\n",
    "m = 100\n",
    "n = 2\n",
    "x0 = [3;1]\n",
    "A = randn(m,n)\n",
    "b = A*x0\n",
    "f0(x) = 0.5*norm(A*x-b)^2\n",
    "g0(x) = A'*(A*x-b)\n",
    "H0(x) = A'*A\n",
    "\n",
    "println(\"Legends:\")\n",
    "println(\"NM = Newton's method\")\n",
    "println(\"BFGS = quasi-Newton method using BFGS approximation of inverse Hessian\")\n",
    "println(\"Correct = the correct outputs a minimizer function should spit out\")\n",
    "println(\"---------------------------------------------------------------------------------------\")\n",
    "@printf(\"%-10s %-40s %20s %20s\\n\", \"Method\", \"Coordinate of optimal point\", \"Value of minimum\", \"# of iterations\")\n",
    "L = minimizenewt(f0,g0,H0,[0;0])\n",
    "@printf(\"%-10s %10f %20f %20f %20i\\n\", \"NM\", L[1], L[2], L[3], L[4])\n",
    "L = minimizeBFGS(f0,g0,eye(length(x0)), [0;0])\n",
    "@printf(\"%-10s %10f %20f %20f %20i\\n\", \"BFGS\", L[1], L[2], L[3], L[4])\n",
    "@printf(\"%-10s %10f %20f %20f %20i\\n\", \"Correct\", 3.0, 1.0, 0.0, 0)\n",
    "\n",
    "\n"
   ]
  },
  {
   "cell_type": "code",
   "execution_count": 4,
   "metadata": {
    "collapsed": false
   },
   "outputs": [
    {
     "name": "stderr",
     "output_type": "stream",
     "text": [
      "INFO: Nothing to be done\n"
     ]
    },
    {
     "name": "stdout",
     "output_type": "stream",
     "text": [
      "     3.000000             1.000000             0.000000                    0\n"
     ]
    },
    {
     "name": "stderr",
     "output_type": "stream",
     "text": [
      "INFO: Updating METADATA...\n",
      "INFO: Updating Toms566...\n",
      "INFO: Computing changes...\n",
      "INFO: No packages to install, update or remove\n"
     ]
    }
   ],
   "source": [
    "Pkg.add(\"Toms566\")\n",
    "Pkg.update()\n",
    "using Toms566"
   ]
  },
  {
   "cell_type": "code",
   "execution_count": 26,
   "metadata": {
    "collapsed": false
   },
   "outputs": [
    {
     "name": "stdout",
     "output_type": "stream",
     "text": [
      "Legends:\n",
      "NM = Newton's method\n",
      "BFGS = quasi-Newton method using BFGS approximation of inverse Hessian\n",
      "---------------------------------------------------------------------------------------\n",
      "                                     # of iterations (-1 = failure)\n",
      "No.  Name                            NW     value                BFGS     value                \n",
      "  1  Hellical valley                 1      24.781713            6        10.239900            \n",
      "  2  Bigg's EXP6                     500    0.779070             15       0.014532             \n",
      "  3  Gaussian                        1      0.000000             2        0.000000             \n",
      "  4  Powell                          500    1.135262             8        0.020217             \n",
      "  5  Box 3-dim                       2      0.132361             7        0.507272             \n",
      "  6  Variably dimensioned            6      115248628.457825     1        167122090.748794     \n",
      "  7  Watson                          500    12.702530            4        0.219033             \n",
      "  8  Penalty I                       4      4422745.759354       2        10395524.922446      \n",
      "  9  Penalty II                      500    68203.086562         33       669.786634           \n",
      " 10  Brown badly scaled              500    499998500003.249939  9        0.000075             \n",
      " 11  Brown and Denis                 500    193832.711091        7        109897.172703        \n",
      " 12  Gulf research and development   500    7.518792             11       NaN                  \n",
      " 13  Trigonometric                   500    0.000562             15       0.000010             \n",
      " 14  Extended rosenbrock             500    184.961489           76       0.616717             \n",
      " 15  Extended Powell singular        500    997.871927           7        3.166674             \n",
      " 16  Beale                           1      14.203125            8        0.003352             \n",
      " 17  Wood                            4      17.336614            4        22.569975            \n",
      " 18  Chebyquad                       500    0.013734             51       0.005396             \n",
      "done\n"
     ]
    }
   ],
   "source": [
    "\n",
    "######################################################\n",
    "# Complete test of every functions in Toms566, SLOW! #\n",
    "######################################################\n",
    "\n",
    "println(\"Legends:\")\n",
    "println(\"NM = Newton's method\")\n",
    "println(\"BFGS = quasi-Newton method using BFGS approximation of inverse Hessian\")\n",
    "println(\"---------------------------------------------------------------------------------------\")\n",
    "@printf(\"%3s  %-30s  %-30s\", \"\", \"\", \"# of iterations (-1 = failure)\\n\")\n",
    "@printf(\"%3s  %-30s  %-6s %-20s %-8s %-20s \\n\",\n",
    "        \"No.\",\n",
    "        \"Name\",\n",
    "        \"NW\", \n",
    "        \"value\",\n",
    "        \"BFGS\",\n",
    "        \"value\")\n",
    "for i=1:18\n",
    "    p = Problem(i)\n",
    "    x0 = p.x0       # standard starting point\n",
    "    f = p.obj   # objective value at x\n",
    "    g = p.grd   # gradient at x\n",
    "    H = p.hes   # Hessian at x\n",
    "    # Keeps track of the number of iterations\n",
    "    newt_res = minimizenewt(f,g,H,x0)\n",
    "    BFGW_res = minimizeBFGS(f,g,eye(length(x0)), x0)\n",
    "\n",
    "    # NM = Newton's method\n",
    "    # NMNPDF = Newton's method with non-positive definite fix\n",
    "    @printf(\"%3i  %-31s %-6i %-20f %-8i %-20f \\n\",\n",
    "            i, \n",
    "            p.name,\n",
    "            newt_res[2],\n",
    "            newt_res[1],\n",
    "            BFGW_res[2],\n",
    "            BFGW_res[1])\n",
    "end\n",
    "\n",
    "\n",
    "println(\"done\")"
   ]
  },
  {
   "cell_type": "code",
   "execution_count": 6,
   "metadata": {
    "collapsed": false
   },
   "outputs": [
    {
     "data": {
      "text/plain": [
       "5-element Array{Float64,1}:\n",
       " -0.40318 \n",
       "  0.922119\n",
       "  3.18562 \n",
       " 10.2399  \n",
       "  6.0     "
      ]
     },
     "execution_count": 6,
     "metadata": {},
     "output_type": "execute_result"
    },
    {
     "name": "stdout",
     "output_type": "stream",
     "text": [
      "2  Bigg's EXP6                     -1     15       \n",
      "done\n"
     ]
    }
   ],
   "source": [
    "i = 1\n",
    "p = Problem(i)\n",
    "x0 = p.x0       # standard starting point\n",
    "f = p.obj   # objective value at x\n",
    "g = p.grd   # gradient at x\n",
    "H = p.hes   # Hessian at x\n",
    "\n",
    "minimizenewt(f,g,H,x0);\n",
    "minimizeBFGS(f,g,eye(length(x0)), x0)"
   ]
  },
  {
   "cell_type": "code",
   "execution_count": null,
   "metadata": {
    "collapsed": true
   },
   "outputs": [],
   "source": []
  }
 ],
 "metadata": {
  "kernelspec": {
   "display_name": "Julia 0.4.0",
   "language": "julia",
   "name": "julia-0.4"
  },
  "language_info": {
   "file_extension": ".jl",
   "mimetype": "application/julia",
   "name": "julia",
   "version": "0.4.0"
  }
 },
 "nbformat": 4,
 "nbformat_minor": 0
}
